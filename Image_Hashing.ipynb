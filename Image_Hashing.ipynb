{
  "nbformat": 4,
  "nbformat_minor": 0,
  "metadata": {
    "colab": {
      "name": "Copy of Copy of Untitled0.ipynb",
      "provenance": [],
      "collapsed_sections": [],
      "machine_shape": "hm"
    },
    "kernelspec": {
      "name": "python3",
      "display_name": "Python 3"
    },
    "accelerator": "GPU"
  },
  "cells": [
    {
      "cell_type": "code",
      "metadata": {
        "id": "ARcuHxcObP_S",
        "colab_type": "code",
        "colab": {
          "base_uri": "https://localhost:8080/",
          "height": 34
        },
        "outputId": "27da42ef-a1c4-4143-a194-b3e8ab90047d"
      },
      "source": [
        "%tensorflow_version 1.x\n",
        "import matplotlib.image as img\n",
        "import matplotlib.pyplot as plt\n",
        "import tensorflow as tf\n",
        "import numpy as np\n",
        "from skimage.color import rgb2gray\n",
        "from skimage import data\n",
        "from skimage.util import random_noise\n",
        "import math\n",
        "import os\n",
        "from skimage import io\n",
        "from google.colab import drive\n",
        "from scipy import misc\n",
        "from scipy import ndimage \n",
        "from skimage.restoration import (denoise_tv_chambolle, denoise_bilateral,\n",
        "                                 denoise_wavelet, estimate_sigma)\n",
        "from skimage import data, img_as_float"
      ],
      "execution_count": 1,
      "outputs": [
        {
          "output_type": "stream",
          "text": [
            "TensorFlow 1.x selected.\n"
          ],
          "name": "stdout"
        }
      ]
    },
    {
      "cell_type": "code",
      "metadata": {
        "id": "ak9l2fAKi_6U",
        "colab_type": "code",
        "colab": {
          "base_uri": "https://localhost:8080/",
          "height": 235
        },
        "outputId": "9420b804-857c-4e8d-9332-982b2dc710c9"
      },
      "source": [
        "!ln -sf /opt/bin/nvidia-smi /usr/bin/nvidia-smi\n",
        "!pip install gputil\n",
        "!pip install psutil\n",
        "!pip install humanize\n",
        "import psutil\n",
        "import humanize\n",
        "import os\n",
        "import GPUtil as GPU\n",
        "GPUs = GPU.getGPUs()\n",
        "# XXX: only one GPU on Colab and isn’t guaranteed\n",
        "gpu = GPUs[0]\n",
        "def printm():\n",
        " process = psutil.Process(os.getpid())\n",
        " print(\"Gen RAM Free: \" + humanize.naturalsize( psutil.virtual_memory().available ), \" | Proc size: \" + humanize.naturalsize( process.memory_info().rss))\n",
        " print(\"GPU RAM Free: {0:.0f}MB | Used: {1:.0f}MB | Util {2:3.0f}% | Total {3:.0f}MB\".format(gpu.memoryFree, gpu.memoryUsed, gpu.memoryUtil*100, gpu.memoryTotal))\n",
        "printm()"
      ],
      "execution_count": 2,
      "outputs": [
        {
          "output_type": "stream",
          "text": [
            "Collecting gputil\n",
            "  Downloading https://files.pythonhosted.org/packages/ed/0e/5c61eedde9f6c87713e89d794f01e378cfd9565847d4576fa627d758c554/GPUtil-1.4.0.tar.gz\n",
            "Building wheels for collected packages: gputil\n",
            "  Building wheel for gputil (setup.py) ... \u001b[?25l\u001b[?25hdone\n",
            "  Created wheel for gputil: filename=GPUtil-1.4.0-cp36-none-any.whl size=7411 sha256=03b74bcc84023ddb5abaeb20457af34068a0f27cc3f5140fc18494dfb9228ced\n",
            "  Stored in directory: /root/.cache/pip/wheels/3d/77/07/80562de4bb0786e5ea186911a2c831fdd0018bda69beab71fd\n",
            "Successfully built gputil\n",
            "Installing collected packages: gputil\n",
            "Successfully installed gputil-1.4.0\n",
            "Requirement already satisfied: psutil in /usr/local/lib/python3.6/dist-packages (5.4.8)\n",
            "Requirement already satisfied: humanize in /usr/local/lib/python3.6/dist-packages (0.5.1)\n",
            "Gen RAM Free: 26.3 GB  | Proc size: 338.0 MB\n",
            "GPU RAM Free: 16280MB | Used: 0MB | Util   0% | Total 16280MB\n"
          ],
          "name": "stdout"
        }
      ]
    },
    {
      "cell_type": "code",
      "metadata": {
        "id": "kmQZs78S0e-n",
        "colab_type": "code",
        "colab": {
          "base_uri": "https://localhost:8080/",
          "height": 34
        },
        "outputId": "2ade8100-b031-48d2-b69c-d2222b3dc9aa"
      },
      "source": [
        "drive.mount('/content/drive')"
      ],
      "execution_count": 3,
      "outputs": [
        {
          "output_type": "stream",
          "text": [
            "Mounted at /content/drive\n"
          ],
          "name": "stdout"
        }
      ]
    },
    {
      "cell_type": "code",
      "metadata": {
        "id": "0IPVDJSe3DHh",
        "colab_type": "code",
        "colab": {}
      },
      "source": [
        "def dist(i, j, ic, jc):\n",
        "    return math.sqrt(((i-ic)**2 + (j-jc)**2))"
      ],
      "execution_count": 4,
      "outputs": []
    },
    {
      "cell_type": "code",
      "metadata": {
        "id": "yjuFEe1SAAEy",
        "colab_type": "code",
        "colab": {}
      },
      "source": [
        "    h = 256\n",
        "    w = 256\n",
        "    height = h+2    #new_height and width after padding\n",
        "    width = w+2\n",
        "    pi = 3.14\n",
        "    m = 64\n",
        "    \n",
        "    r = height/2;\n",
        "    outer_area = pi*r*r;\n",
        "\n",
        "    Ua = outer_area/m\n",
        "\n",
        "    rad = (int)(math.sqrt(Ua/pi))\n",
        "    radius_list = []\n",
        "    radius_list.append(rad)\n",
        "\n",
        "    for i in range(1, m) :\n",
        "        rad = (int)(math.sqrt((Ua + pi*rad*rad)/pi))\n",
        "        radius_list.append(rad)\n",
        "    #print(radius_list)\n",
        "    \n",
        "    ngroups = m\n",
        "    Xc = height/2\n",
        "    Yc = width/2   \n",
        "    \n",
        "    cols = []\n",
        "    for i in range(0, m-1):  \n",
        "        r1 = radius_list[i]\n",
        "        r2 = radius_list[i+1]\n",
        "        temp = []\n",
        "        for j in range(0, height):\n",
        "            for k in range(0, width):\n",
        "                if dist(j, k, Xc, Yc) > r1 and dist(j, k, Xc, Yc) < r2:\n",
        "                    temp.append((j,k))\n",
        "        cols.append(temp)\n",
        "        \n",
        "    max_len = -1\n",
        "    for i in range(len(cols)):\n",
        "        max_len = max(max_len,len(cols[i]))\n",
        "    \n",
        "    for i in range(0, ngroups-1):\n",
        "        cur_len = len(cols[i])\n",
        "        for j in range(cur_len, max_len):\n",
        "            cols[i].append(0)\n",
        "            \n",
        "    new_cols = []\n",
        "    for i in range(0,len(cols)):\n",
        "        new_cols.append(cols[i])"
      ],
      "execution_count": 5,
      "outputs": []
    },
    {
      "cell_type": "code",
      "metadata": {
        "id": "9SMRhZg2uh7X",
        "colab_type": "code",
        "colab": {}
      },
      "source": [
        "def GFO(x):\n",
        "  if x<0 :\n",
        "    #print((-(2*x+x*x))\n",
        "    return -1*math.pow(-(2*x+x*x),0.5)\n",
        "  elif x>=0:\n",
        "    #print((-(2*x-x*x))\n",
        "    return math.pow((2*x-x*x),0.5)\n",
        "\n",
        "def fuzzy(image,i,j):\n",
        "  norm = -100\n",
        "  for k1 in range(i-1,i+2):\n",
        "    for k2 in range(j-1,j+2):\n",
        "      if(k1!=i and k2!=j):\n",
        "        norm = max(norm,abs(image[i][j] - image[k1][k2]))\n",
        "\n",
        "  sum = 0\n",
        "  for k1 in range(i-1,i+2):\n",
        "    for k2 in range(j-1,j+2):\n",
        "      if(k1!=i and k2!=j):\n",
        "        #cur between -1 and 1\n",
        "        cur = (image[i][j] - image[k1][k2])/(norm+0.0005)\n",
        "        sum += GFO(cur)\n",
        "  sum/=8\n",
        "  sum *= -255\n",
        "  sum += image[i][j]\n",
        "  \n",
        "  return sum\n",
        "\n",
        "def binary(l):\n",
        "    m = np.mean(l)\n",
        "    l = [int(l[i] > m) for i in range(len(l))]\n",
        "    return l\n",
        "\n",
        "def skewness(l):\n",
        "    m = np.mean(l)\n",
        "    x = [(l[i]-m)**3 for i in range(len(l))]\n",
        "    num = np.sum(x)/len(l)\n",
        "    s = math.sqrt(np.var(l))\n",
        "    ans = num/(s**3)\n",
        "    return ans\n",
        "\n",
        "def kurtosis(l):\n",
        "    m = np.mean(l)\n",
        "    x = [(l[i]-m)**4 for i in range(len(l))]\n",
        "    num = np.sum(x)/len(l)\n",
        "    s = math.sqrt(np.var(l))\n",
        "    ans = num/(s**4)\n",
        "    return ans\n",
        "\n",
        "\n",
        "def binary_hash(mat,n):\n",
        "    # for each row find the mean and put it in a_list\n",
        "    a_list = binary([np.mean(mat[i]) for i in range(n)])\n",
        "    # similarly for other properties\n",
        "    b_list = binary([np.var(mat[i]) for i in range(n)])\n",
        "    c_list = binary([skewness(mat[i]) for i in range(n)])\n",
        "    d_list = binary([kurtosis(mat[i]) for i in range(n)])\n",
        "    # concatenate all the lists\n",
        "    total_list = a_list + b_list + c_list + d_list\n",
        "    # return final list\n",
        "    return total_list\n",
        "        \n",
        "\n",
        "from scipy.ndimage import gaussian_filter"
      ],
      "execution_count": 6,
      "outputs": []
    },
    {
      "cell_type": "code",
      "metadata": {
        "id": "y5x1CKdl3PqF",
        "colab_type": "code",
        "colab": {}
      },
      "source": [
        "def image_to_hash(image,h,w,new_cols):\n",
        "    #print(image)\n",
        "\n",
        "    image = image/image.max()\n",
        "    image = ndimage.median_filter(image, 3)\n",
        "    #image = denoise_wavelet(image, multichannel=True, rescale_sigma=True)\n",
        "    #image = denoise_bilateral(image, sigma_color=0.05, sigma_spatial=15,multichannel=True)\n",
        "    #image = denoise_tv_chambolle(image, weight=0.1, multichannel=True)\n",
        "    img = tf.image.resize_images(image,(h,w)) #resize image\n",
        "    \n",
        "    with tf.Session() as sess:\n",
        "        img_s = sess.run(img)\n",
        "\n",
        "    #print(img_s)\n",
        "        \n",
        "    img_gray = rgb2gray(img_s)  #converting to gray scale\n",
        "    paddings = tf.constant([[1, 1,], [1, 1]])  #up-down,left-right\n",
        "    pad = tf.pad(img_gray,paddings,\"CONSTANT\")  #padding with zeros\n",
        "    \n",
        "    with tf.Session() as sess:\n",
        "        img = sess.run(pad)\n",
        "    \n",
        "    #print(img)\n",
        "\n",
        "    imgs = np.zeros((h+2,w+2))\n",
        "    \n",
        "    for  i in range(0,h+2):\n",
        "      imgs[i][0] = img[i][0]\n",
        "      imgs[i][w+1] = img[i][w+1]\n",
        "      imgs[0][i] = img[0][i]\n",
        "      imgs[w+1][i] = img[w+1][i]\n",
        "\n",
        "    flag = 0\n",
        "\n",
        "    for i in range(1,h+1):\n",
        "      for j in range(1,w+1):\n",
        "        imgs[i][j] = fuzzy(img,i,j)            \n",
        "                     \n",
        "    pixels_cols = []\n",
        "\n",
        "    for i in range(0,len(new_cols)):\n",
        "        temp = []\n",
        "        for j in range(0,len(new_cols[i])):\n",
        "            if(new_cols[i][j]==0):\n",
        "                temp.append(0)\n",
        "                continue\n",
        "            index_i = new_cols[i][j][0]\n",
        "            index_j = new_cols[i][j][1]\n",
        "            pixel = imgs[index_i][index_j]\n",
        "            temp.append(pixel)\n",
        "        pixels_cols.append(temp)\n",
        "    \n",
        "    pixels_cols = np.asarray(pixels_cols)\n",
        "    #print(pixels_cols.shape)\n",
        "    #pixels_cols = np.transpose(pixels_cols)\n",
        "    #print(pixels_cols.shape)\n",
        "    n = len(pixels_cols)\n",
        "\n",
        "    #print(pixels_cols)\n",
        "\n",
        "    \n",
        "    \n",
        "    return binary_hash(pixels_cols,n);  "
      ],
      "execution_count": 7,
      "outputs": []
    },
    {
      "cell_type": "code",
      "metadata": {
        "id": "jVDzCtBJSC1N",
        "colab_type": "code",
        "colab": {}
      },
      "source": [
        "def salt_pepper(image,amount):\n",
        "    row,col,ch = image.shape\n",
        "    s_vs_p = 0.5\n",
        "    out = np.copy(image)\n",
        "      # Salt mode\n",
        "    num_salt = np.ceil(amount * image.size * s_vs_p)\n",
        "    coords = [np.random.randint(0, i - 1, int(num_salt))\n",
        "              for i in image.shape]\n",
        "    out[coords] = 1\n",
        "\n",
        "      # Pepper mode\n",
        "    num_pepper = np.ceil(amount* image.size * (1. - s_vs_p))\n",
        "    coords = [np.random.randint(0, i - 1, int(num_pepper))\n",
        "              for i in image.shape]\n",
        "    out[coords] = 0\n",
        "    return out\n",
        "#img = salt_pepper(image,1)\n",
        "#plt.imshow(img)"
      ],
      "execution_count": 8,
      "outputs": []
    },
    {
      "cell_type": "code",
      "metadata": {
        "id": "K3tvHOLx5LIy",
        "colab_type": "code",
        "colab": {}
      },
      "source": [
        "def hamming_dist(hash1,hash2):\n",
        "    dist = 0\n",
        "    for i in range(len(hash1)):\n",
        "        if(hash1[i]!=hash2[i]):\n",
        "            dist+=1\n",
        "    return (dist/len(hash1))\n",
        "        "
      ],
      "execution_count": 9,
      "outputs": []
    },
    {
      "cell_type": "code",
      "metadata": {
        "id": "8doZwpuE3VWS",
        "colab_type": "code",
        "colab": {
          "base_uri": "https://localhost:8080/",
          "height": 269
        },
        "outputId": "414be3a6-1f19-45c9-8808-59a930b7eddb"
      },
      "source": [
        "dist_rotated = []\n",
        "c= 0\n",
        "\n",
        "path = \"/content/drive/My Drive/Colab Notebooks/ALL DB1\"\n",
        "for file in os.listdir(\"/content/drive/My Drive/Colab Notebooks/ALL DB1\"):\n",
        "    image = plt.imread(path + '/' + file)\n",
        "    hash1 = image_to_hash(image,256,256,new_cols)\n",
        "    images = []\n",
        "    c+=1\n",
        "    print(c)\n",
        "    for i in range(1,46):\n",
        "        image2 = tf.contrib.image.rotate(image, i*(3.14/180), interpolation='BILINEAR')\n",
        "        image3 = tf.contrib.image.rotate(image, (-1)*i*(3.14/180), interpolation='BILINEAR')\n",
        "        with tf.Session() as sess:\n",
        "            image2 = sess.run(image2)\n",
        "            image3 = sess.run(image3)\n",
        "        images.append(image2)\n",
        "        images.append(image3)\n",
        "        \n",
        "    for img in images:\n",
        "        attacked_hash = image_to_hash(img,256,256,new_cols)\n",
        "        dist_rotated.append(hamming_dist(hash1,attacked_hash))\n",
        "        "
      ],
      "execution_count": 19,
      "outputs": [
        {
          "output_type": "stream",
          "text": [
            "1\n",
            "WARNING:tensorflow:\n",
            "The TensorFlow contrib module will not be included in TensorFlow 2.0.\n",
            "For more information, please see:\n",
            "  * https://github.com/tensorflow/community/blob/master/rfcs/20180907-contrib-sunset.md\n",
            "  * https://github.com/tensorflow/addons\n",
            "  * https://github.com/tensorflow/io (for I/O related ops)\n",
            "If you depend on functionality not listed there, please file an issue.\n",
            "\n",
            "2\n",
            "3\n",
            "4\n",
            "5\n",
            "6\n",
            "7\n"
          ],
          "name": "stdout"
        }
      ]
    },
    {
      "cell_type": "code",
      "metadata": {
        "id": "v1WA02t4dhZc",
        "colab_type": "code",
        "colab": {
          "base_uri": "https://localhost:8080/",
          "height": 450
        },
        "outputId": "2e15b711-e20c-4366-ad10-528521b86a64"
      },
      "source": [
        "plt.hist(dist_rotated, color = 'blue', edgecolor = 'black',\n",
        "         bins = int(150/5))\n"
      ],
      "execution_count": 20,
      "outputs": [
        {
          "output_type": "execute_result",
          "data": {
            "text/plain": [
              "(array([ 5.,  4., 11., 14., 27., 21., 51., 35., 42., 66., 38., 52., 41.,\n",
              "        44., 22., 18., 10., 13., 14., 10., 17., 10., 11., 23.,  8., 10.,\n",
              "         5.,  5.,  2.,  1.]),\n",
              " array([0.1031746 , 0.11283069, 0.12248677, 0.13214286, 0.14179894,\n",
              "        0.15145503, 0.16111111, 0.1707672 , 0.18042328, 0.19007937,\n",
              "        0.19973545, 0.20939153, 0.21904762, 0.2287037 , 0.23835979,\n",
              "        0.24801587, 0.25767196, 0.26732804, 0.27698413, 0.28664021,\n",
              "        0.2962963 , 0.30595238, 0.31560847, 0.32526455, 0.33492063,\n",
              "        0.34457672, 0.3542328 , 0.36388889, 0.37354497, 0.38320106,\n",
              "        0.39285714]),\n",
              " <a list of 30 Patch objects>)"
            ]
          },
          "metadata": {
            "tags": []
          },
          "execution_count": 20
        },
        {
          "output_type": "display_data",
          "data": {
            "image/png": "[encoded data removed]",
            "text/plain": [
              "<Figure size 432x288 with 1 Axes>"
            ]
          },
          "metadata": {
            "tags": [],
            "needs_background": "light"
          }
        }
      ]
    },
    {
      "cell_type": "code",
      "metadata": {
        "id": "npuorH5G9sN7",
        "colab_type": "code",
        "colab": {
          "base_uri": "https://localhost:8080/",
          "height": 487
        },
        "outputId": "8527ceef-125e-43ed-dca3-70855f25afce"
      },
      "source": [
        "c = 0\n",
        "dist_noises1 = []\n",
        "path = \"/content/drive/My Drive/Colab Notebooks/ALL DB\"\n",
        "for file in os.listdir(\"/content/drive/My Drive/Colab Notebooks/ALL DB\"):\n",
        "    image = plt.imread(path + '/' + file)\n",
        "    c+=1\n",
        "    print(c)\n",
        "    hash1 = image_to_hash(image,256,256,new_cols)\n",
        "    images = []\n",
        "    img_array = np.asarray(image)\n",
        "    \n",
        "    for var in range(5,10,1):\n",
        "        image2 = random_noise(img_array,mode = 'gaussian',var=var/100)\n",
        "        images.append(image2)\n",
        "            \n",
        "            \n",
        "    for img in images:\n",
        "        attacked_hash = image_to_hash(img,256,256,new_cols)\n",
        "        dist_noises1.append(hamming_dist(hash1,attacked_hash))\n",
        "      \n",
        "\n"
      ],
      "execution_count": 10,
      "outputs": [
        {
          "output_type": "stream",
          "text": [
            "1\n",
            "2\n",
            "3\n",
            "4\n",
            "5\n",
            "6\n",
            "7\n",
            "8\n",
            "9\n",
            "10\n",
            "11\n",
            "12\n",
            "13\n",
            "14\n",
            "15\n",
            "16\n",
            "17\n",
            "18\n",
            "19\n",
            "20\n",
            "21\n",
            "22\n",
            "23\n",
            "24\n",
            "25\n",
            "26\n",
            "27\n",
            "28\n"
          ],
          "name": "stdout"
        }
      ]
    },
    {
      "cell_type": "code",
      "metadata": {
        "id": "8lcYCijEvyHC",
        "colab_type": "code",
        "colab": {
          "base_uri": "https://localhost:8080/",
          "height": 466
        },
        "outputId": "10016a55-e0d6-4b6b-bbb3-7e4ff7da863e"
      },
      "source": [
        "plt.hist(dist_noises1, color = 'blue', edgecolor = 'black',\n",
        "         bins = int(180/5))\n"
      ],
      "execution_count": 11,
      "outputs": [
        {
          "output_type": "execute_result",
          "data": {
            "text/plain": [
              "(array([ 3.,  2.,  5.,  4.,  4., 10.,  4.,  3.,  8.,  7.,  8., 10.,  5.,\n",
              "        11.,  2.,  3.,  7.,  4.,  2.,  3.,  3.,  3.,  7.,  2.,  6.,  2.,\n",
              "         0.,  6.,  1.,  0.,  2.,  2.,  0.,  0.,  0.,  1.]),\n",
              " array([0.20238095, 0.20778219, 0.21318342, 0.21858466, 0.22398589,\n",
              "        0.22938713, 0.23478836, 0.24018959, 0.24559083, 0.25099206,\n",
              "        0.2563933 , 0.26179453, 0.26719577, 0.272597  , 0.27799824,\n",
              "        0.28339947, 0.28880071, 0.29420194, 0.29960317, 0.30500441,\n",
              "        0.31040564, 0.31580688, 0.32120811, 0.32660935, 0.33201058,\n",
              "        0.33741182, 0.34281305, 0.34821429, 0.35361552, 0.35901675,\n",
              "        0.36441799, 0.36981922, 0.37522046, 0.38062169, 0.38602293,\n",
              "        0.39142416, 0.3968254 ]),\n",
              " <a list of 36 Patch objects>)"
            ]
          },
          "metadata": {
            "tags": []
          },
          "execution_count": 11
        },
        {
          "output_type": "display_data",
          "data": {
            "image/png": "[encoded data removed]",
            "text/plain": [
              "<Figure size 432x288 with 1 Axes>"
            ]
          },
          "metadata": {
            "tags": [],
            "needs_background": "light"
          }
        }
      ]
    },
    {
      "cell_type": "code",
      "metadata": {
        "id": "k5GBtXABMkyG",
        "colab_type": "code",
        "colab": {
          "base_uri": "https://localhost:8080/",
          "height": 487
        },
        "outputId": "f6c1fa8f-4c2e-4a28-b2d9-d2bea1f797ea"
      },
      "source": [
        "c = 0\n",
        "dist_noises4 = []\n",
        "path = \"/content/drive/My Drive/Colab Notebooks/ALL DB\"\n",
        "for file in os.listdir(\"/content/drive/My Drive/Colab Notebooks/ALL DB\"):\n",
        "    image = plt.imread(path + '/' + file)\n",
        "    c+=1\n",
        "    print(c)\n",
        "    hash1 = image_to_hash(image,256,256,new_cols)\n",
        "    images = []\n",
        "    img_array = np.asarray(image)\n",
        "    \n",
        "    image2 = random_noise(img_array,mode = 'poisson')\n",
        "    images.append(image2)\n",
        "            \n",
        "            \n",
        "    for img in images:\n",
        "        attacked_hash = image_to_hash(img,256,256,new_cols)\n",
        "        dist_noises4.append(hamming_dist(hash1,attacked_hash))\n",
        "      \n",
        "\n"
      ],
      "execution_count": 12,
      "outputs": [
        {
          "output_type": "stream",
          "text": [
            "1\n",
            "2\n",
            "3\n",
            "4\n",
            "5\n",
            "6\n",
            "7\n",
            "8\n",
            "9\n",
            "10\n",
            "11\n",
            "12\n",
            "13\n",
            "14\n",
            "15\n",
            "16\n",
            "17\n",
            "18\n",
            "19\n",
            "20\n",
            "21\n",
            "22\n",
            "23\n",
            "24\n",
            "25\n",
            "26\n",
            "27\n",
            "28\n"
          ],
          "name": "stdout"
        }
      ]
    },
    {
      "cell_type": "code",
      "metadata": {
        "id": "-1QCKn0EMla8",
        "colab_type": "code",
        "colab": {
          "base_uri": "https://localhost:8080/",
          "height": 466
        },
        "outputId": "62bc499a-6fdf-4a0b-9a43-c88788edc1e7"
      },
      "source": [
        "plt.hist(dist_noises4, color = 'blue', edgecolor = 'black',\n",
        "         bins = int(180/5))"
      ],
      "execution_count": 13,
      "outputs": [
        {
          "output_type": "execute_result",
          "data": {
            "text/plain": [
              "(array([1., 0., 2., 1., 1., 1., 0., 1., 0., 0., 1., 1., 1., 0., 0., 0., 3.,\n",
              "        0., 0., 3., 1., 0., 1., 3., 2., 2., 0., 0., 0., 0., 0., 0., 1., 1.,\n",
              "        0., 1.]),\n",
              " array([0.12698413, 0.13084215, 0.13470018, 0.1385582 , 0.14241623,\n",
              "        0.14627425, 0.15013228, 0.1539903 , 0.15784832, 0.16170635,\n",
              "        0.16556437, 0.1694224 , 0.17328042, 0.17713845, 0.18099647,\n",
              "        0.1848545 , 0.18871252, 0.19257055, 0.19642857, 0.2002866 ,\n",
              "        0.20414462, 0.20800265, 0.21186067, 0.21571869, 0.21957672,\n",
              "        0.22343474, 0.22729277, 0.23115079, 0.23500882, 0.23886684,\n",
              "        0.24272487, 0.24658289, 0.25044092, 0.25429894, 0.25815697,\n",
              "        0.26201499, 0.26587302]),\n",
              " <a list of 36 Patch objects>)"
            ]
          },
          "metadata": {
            "tags": []
          },
          "execution_count": 13
        },
        {
          "output_type": "display_data",
          "data": {
            "image/png": "[encoded data removed]",
            "text/plain": [
              "<Figure size 432x288 with 1 Axes>"
            ]
          },
          "metadata": {
            "tags": [],
            "needs_background": "light"
          }
        }
      ]
    },
    {
      "cell_type": "code",
      "metadata": {
        "id": "Ee-RnYGgrL7S",
        "colab_type": "code",
        "colab": {
          "base_uri": "https://localhost:8080/",
          "height": 574
        },
        "outputId": "8934cf5f-84d2-4d55-bef9-e335589592f2"
      },
      "source": [
        "c = 0\n",
        "dist_noises2 = []\n",
        "path = \"/content/drive/My Drive/Colab Notebooks/ALL DB\"\n",
        "for file in os.listdir(\"/content/drive/My Drive/Colab Notebooks/ALL DB\"):\n",
        "    image = plt.imread(path + '/' + file)\n",
        "    c+=1\n",
        "    print(c)\n",
        "    hash1 = image_to_hash(image,256,256,new_cols)\n",
        "    images = []\n",
        "    img_array = np.asarray(image)\n",
        "    \n",
        "    for amount in range(1,11,1):\n",
        "        image2 = salt_pepper(image,amount/10)\n",
        "        images.append(image2)\n",
        "\n",
        "    for img in images:\n",
        "        attacked_hash = image_to_hash(img,256,256,new_cols)\n",
        "        dist_noises2.append(hamming_dist(hash1,attacked_hash))"
      ],
      "execution_count": 14,
      "outputs": [
        {
          "output_type": "stream",
          "text": [
            "1\n"
          ],
          "name": "stdout"
        },
        {
          "output_type": "stream",
          "text": [
            "/usr/local/lib/python3.6/dist-packages/ipykernel_launcher.py:9: FutureWarning: Using a non-tuple sequence for multidimensional indexing is deprecated; use `arr[tuple(seq)]` instead of `arr[seq]`. In the future this will be interpreted as an array index, `arr[np.array(seq)]`, which will result either in an error or a different result.\n",
            "  if __name__ == '__main__':\n",
            "/usr/local/lib/python3.6/dist-packages/ipykernel_launcher.py:15: FutureWarning: Using a non-tuple sequence for multidimensional indexing is deprecated; use `arr[tuple(seq)]` instead of `arr[seq]`. In the future this will be interpreted as an array index, `arr[np.array(seq)]`, which will result either in an error or a different result.\n",
            "  from ipykernel import kernelapp as app\n"
          ],
          "name": "stderr"
        },
        {
          "output_type": "stream",
          "text": [
            "2\n",
            "3\n",
            "4\n",
            "5\n",
            "6\n",
            "7\n",
            "8\n",
            "9\n",
            "10\n",
            "11\n",
            "12\n",
            "13\n",
            "14\n",
            "15\n",
            "16\n",
            "17\n",
            "18\n",
            "19\n",
            "20\n",
            "21\n",
            "22\n",
            "23\n",
            "24\n",
            "25\n",
            "26\n",
            "27\n",
            "28\n"
          ],
          "name": "stdout"
        }
      ]
    },
    {
      "cell_type": "code",
      "metadata": {
        "id": "Fc4trnQzzwhy",
        "colab_type": "code",
        "colab": {
          "base_uri": "https://localhost:8080/",
          "height": 470
        },
        "outputId": "982fa241-687c-408d-efbd-dbbcaebc960e"
      },
      "source": [
        "plt.hist(dist_noises2, color = 'blue', edgecolor = 'black',\n",
        "         bins = int(180/5))\n"
      ],
      "execution_count": 15,
      "outputs": [
        {
          "output_type": "execute_result",
          "data": {
            "text/plain": [
              "(array([ 1.,  0.,  3.,  4.,  0.,  3.,  1.,  3.,  2.,  6.,  7.,  6.,  8.,\n",
              "         6., 11., 20., 20., 24., 22., 16., 22., 12., 15., 12., 18.,  9.,\n",
              "         9.,  3.,  4.,  3.,  2.,  2.,  2.,  1.,  1.,  2.]),\n",
              " array([0.06349206, 0.07352293, 0.08355379, 0.09358466, 0.10361552,\n",
              "        0.11364638, 0.12367725, 0.13370811, 0.14373898, 0.15376984,\n",
              "        0.16380071, 0.17383157, 0.18386243, 0.1938933 , 0.20392416,\n",
              "        0.21395503, 0.22398589, 0.23401675, 0.24404762, 0.25407848,\n",
              "        0.26410935, 0.27414021, 0.28417108, 0.29420194, 0.3042328 ,\n",
              "        0.31426367, 0.32429453, 0.3343254 , 0.34435626, 0.35438713,\n",
              "        0.36441799, 0.37444885, 0.38447972, 0.39451058, 0.40454145,\n",
              "        0.41457231, 0.42460317]),\n",
              " <a list of 36 Patch objects>)"
            ]
          },
          "metadata": {
            "tags": []
          },
          "execution_count": 15
        },
        {
          "output_type": "display_data",
          "data": {
            "image/png": "[encoded data removed]",
            "text/plain": [
              "<Figure size 432x288 with 1 Axes>"
            ]
          },
          "metadata": {
            "tags": [],
            "needs_background": "light"
          }
        }
      ]
    },
    {
      "cell_type": "code",
      "metadata": {
        "id": "ENcDldg84OGj",
        "colab_type": "code",
        "colab": {
          "base_uri": "https://localhost:8080/",
          "height": 487
        },
        "outputId": "ebf556f6-6f2f-4066-a0aa-af34429976fd"
      },
      "source": [
        "dist_diff = []\n",
        "c = 0\n",
        "path = \"/content/drive/My Drive/Colab Notebooks/ALL DB\"\n",
        "for file in os.listdir(\"/content/drive/My Drive/Colab Notebooks/ALL DB\"):\n",
        "    image = plt.imread(path + '/'+file)\n",
        "    c+=1\n",
        "    print(c)\n",
        "    hash1 = image_to_hash(image,256,256,new_cols)\n",
        "    for files in os.listdir(\"/content/drive/My Drive/Colab Notebooks/ALL DB\"):\n",
        "        if(files==file):\n",
        "            continue\n",
        "        image1 = plt.imread(path + '/'+files)\n",
        "        hash2 = image_to_hash(image1,256,256,new_cols)\n",
        "        dist_diff.append(hamming_dist(hash1,hash2))\n",
        "        ##print(hamming_dist(hash1,hash2))\n",
        "        if(hamming_dist(hash1,hash2)==0.0):\n",
        "           print(file)\n",
        "           print(files)\n",
        "           print('\\n')"
      ],
      "execution_count": 16,
      "outputs": [
        {
          "output_type": "stream",
          "text": [
            "1\n",
            "2\n",
            "3\n",
            "4\n",
            "5\n",
            "6\n",
            "7\n",
            "8\n",
            "9\n",
            "10\n",
            "11\n",
            "12\n",
            "13\n",
            "14\n",
            "15\n",
            "16\n",
            "17\n",
            "18\n",
            "19\n",
            "20\n",
            "21\n",
            "22\n",
            "23\n",
            "24\n",
            "25\n",
            "26\n",
            "27\n",
            "28\n"
          ],
          "name": "stdout"
        }
      ]
    },
    {
      "cell_type": "code",
      "metadata": {
        "id": "N5x_PFFTDLkG",
        "colab_type": "code",
        "colab": {
          "base_uri": "https://localhost:8080/",
          "height": 466
        },
        "outputId": "4aebe125-0258-48c4-e438-c741e8785333"
      },
      "source": [
        "plt.hist(dist_diff, color = 'blue', edgecolor = 'black',\n",
        "         bins = int(180/5))\n"
      ],
      "execution_count": 17,
      "outputs": [
        {
          "output_type": "execute_result",
          "data": {
            "text/plain": [
              "(array([ 4.,  2.,  8.,  6., 14., 22., 30., 32., 52., 50., 84., 56., 56.,\n",
              "        46., 48., 70., 26., 28., 12., 20., 36., 12.,  4.,  4.,  6.,  4.,\n",
              "         6.,  0.,  4.,  4.,  0.,  6.,  0.,  0.,  2.,  2.]),\n",
              " array([0.23015873, 0.23886684, 0.24757496, 0.25628307, 0.26499118,\n",
              "        0.27369929, 0.28240741, 0.29111552, 0.29982363, 0.30853175,\n",
              "        0.31723986, 0.32594797, 0.33465608, 0.3433642 , 0.35207231,\n",
              "        0.36078042, 0.36948854, 0.37819665, 0.38690476, 0.39561287,\n",
              "        0.40432099, 0.4130291 , 0.42173721, 0.43044533, 0.43915344,\n",
              "        0.44786155, 0.45656966, 0.46527778, 0.47398589, 0.482694  ,\n",
              "        0.49140212, 0.50011023, 0.50881834, 0.51752646, 0.52623457,\n",
              "        0.53494268, 0.54365079]),\n",
              " <a list of 36 Patch objects>)"
            ]
          },
          "metadata": {
            "tags": []
          },
          "execution_count": 17
        },
        {
          "output_type": "display_data",
          "data": {
            "image/png": "[encoded data removed]",
            "text/plain": [
              "<Figure size 432x288 with 1 Axes>"
            ]
          },
          "metadata": {
            "tags": [],
            "needs_background": "light"
          }
        }
      ]
    },
    {
      "cell_type": "code",
      "metadata": {
        "id": "jGOrSY6AL0My",
        "colab_type": "code",
        "colab": {}
      },
      "source": [
        ""
      ],
      "execution_count": null,
      "outputs": []
    }
  ]
}